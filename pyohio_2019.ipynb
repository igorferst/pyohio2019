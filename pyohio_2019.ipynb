{
 "cells": [
  {
   "cell_type": "markdown",
   "metadata": {},
   "source": [
    "### A Practical Introduction to Integer Programming\n",
    "#### Igor Ferst, PyOhio 2019\n",
    "\n",
    "Code based on:\n",
    "https://github.com/google/or-tools/blob/stable/ortools/linear_solver/samples/simple_mip_program.py"
   ]
  },
  {
   "cell_type": "markdown",
   "metadata": {},
   "source": [
    "Install `ortools` if you haven't already."
   ]
  },
  {
   "cell_type": "code",
   "execution_count": null,
   "metadata": {},
   "outputs": [],
   "source": [
    "import sys\n",
    "!{sys.executable} -m pip install --user ortools"
   ]
  },
  {
   "cell_type": "markdown",
   "metadata": {},
   "source": [
    "Instantiate a solver."
   ]
  },
  {
   "cell_type": "code",
   "execution_count": 3,
   "metadata": {},
   "outputs": [],
   "source": [
    "from ortools.linear_solver import pywraplp\n",
    "\n",
    "solver = pywraplp.Solver('PyOhio 2019', pywraplp.Solver.CBC_MIXED_INTEGER_PROGRAMMING)"
   ]
  },
  {
   "cell_type": "markdown",
   "metadata": {},
   "source": [
    "Define all variables, one for each vehicle/route pair."
   ]
  },
  {
   "cell_type": "code",
   "execution_count": 4,
   "metadata": {},
   "outputs": [
    {
     "name": "stdout",
     "output_type": "stream",
     "text": [
      "Total number of variables: 12\n"
     ]
    }
   ],
   "source": [
    "x = {\n",
    "    'A1': solver.IntVar(0.0, 1.0, 'A1'),\n",
    "    'A2': solver.IntVar(0.0, 1.0, 'A2'),\n",
    "    'A3': solver.IntVar(0.0, 1.0, 'A3'),\n",
    "    'A4': solver.IntVar(0.0, 1.0, 'A4'),\n",
    "    'B1': solver.IntVar(0.0, 1.0, 'B1'),\n",
    "    'B2': solver.IntVar(0.0, 1.0, 'B2'),\n",
    "    'B3': solver.IntVar(0.0, 1.0, 'B3'),\n",
    "    'B4': solver.IntVar(0.0, 1.0, 'B4'),    \n",
    "    'C1': solver.IntVar(0.0, 1.0, 'C1'),\n",
    "    'C2': solver.IntVar(0.0, 1.0, 'C2'),\n",
    "    'C3': solver.IntVar(0.0, 1.0, 'C3'),\n",
    "    'C4': solver.IntVar(0.0, 1.0, 'C4'),    \n",
    "}\n",
    "\n",
    "print(('Total number of variables: %d' % solver.NumVariables()))"
   ]
  },
  {
   "cell_type": "markdown",
   "metadata": {},
   "source": [
    "Define all constraints."
   ]
  },
  {
   "cell_type": "code",
   "execution_count": 5,
   "metadata": {},
   "outputs": [
    {
     "name": "stdout",
     "output_type": "stream",
     "text": [
      "Total number of constraints: 13\n"
     ]
    }
   ],
   "source": [
    "# Coverage constraints.\n",
    "\n",
    "solver.Add( x['A1'] + x['B1'] + x['C1'] == 1 )\n",
    "solver.Add( x['A2'] + x['B2'] + x['C2'] == 1 )\n",
    "solver.Add( x['A3'] + x['B3'] + x['C3'] == 1 )\n",
    "solver.Add( x['A4'] + x['B4'] + x['C4'] == 1 )\n",
    "\n",
    "# Capacity constraints.\n",
    "\n",
    "solver.Add( x['A1'] == 0 )\n",
    "solver.Add( x['A2'] == 0 )\n",
    "solver.Add( x['B1'] == 0 )\n",
    "\n",
    "# Overlap constraints.\n",
    "\n",
    "solver.Add( x['A1'] + x['A2'] <= 1 ) \n",
    "solver.Add( x['B1'] + x['B2'] <= 1 ) \n",
    "solver.Add( x['C1'] + x['C2'] <= 1 ) \n",
    "\n",
    "solver.Add( x['A3'] + x['A4'] <= 1 ) \n",
    "solver.Add( x['B3'] + x['B4'] <= 1 ) \n",
    "solver.Add( x['C3'] + x['C4'] <= 1 ) \n",
    "\n",
    "print(('Total number of constraints: %d' % solver.NumConstraints()))"
   ]
  },
  {
   "cell_type": "markdown",
   "metadata": {},
   "source": [
    "Define function to be minimized (objective function)."
   ]
  },
  {
   "cell_type": "code",
   "execution_count": 6,
   "metadata": {},
   "outputs": [],
   "source": [
    "solver.Minimize(\n",
    "    4 * x['A1'] + 6 * x['B1'] + 10 * x['C1'] + \n",
    "    4 * x['A2'] + 6 * x['B2'] + 10 * x['C2'] + \n",
    "    4 * x['A3'] + 6 * x['B3'] + 10 * x['C3'] + \n",
    "    4 * x['A4'] + 6 * x['B4'] + 10 * x['C4']    \n",
    ")"
   ]
  },
  {
   "cell_type": "markdown",
   "metadata": {},
   "source": [
    "Now we're ready to solve!"
   ]
  },
  {
   "cell_type": "code",
   "execution_count": 7,
   "metadata": {},
   "outputs": [
    {
     "name": "stdout",
     "output_type": "stream",
     "text": [
      "Assignments: [A4, B2, B3, C1]\n",
      "Minimal objective value: 26.000000\n"
     ]
    }
   ],
   "source": [
    "result_status = solver.Solve()\n",
    "\n",
    "# Confirm the problem has an optimal solution.\n",
    "assert result_status == pywraplp.Solver.OPTIMAL\n",
    "\n",
    "# Confirm the solution looks legit (when using solvers others than\n",
    "# GLOP_LINEAR_PROGRAMMING, verifying the solution is highly recommended).\n",
    "assert solver.VerifySolution(1e-7, True)\n",
    "\n",
    "# Get vehicle assignments.\n",
    "assignments = [x_var for x_var in x.values() if x_var.solution_value() == 1.0]\n",
    "print('Assignments: %s' % str(assignments))\n",
    "\n",
    "# The objective value of the solution (i.e. minimal value of the function to be minimized)\n",
    "print(('Minimal objective value: %f' % solver.Objective().Value()))"
   ]
  }
 ],
 "metadata": {
  "kernelspec": {
   "display_name": "Python 3",
   "language": "python",
   "name": "python3"
  },
  "language_info": {
   "codemirror_mode": {
    "name": "ipython",
    "version": 3
   },
   "file_extension": ".py",
   "mimetype": "text/x-python",
   "name": "python",
   "nbconvert_exporter": "python",
   "pygments_lexer": "ipython3",
   "version": "3.6.7"
  }
 },
 "nbformat": 4,
 "nbformat_minor": 2
}
