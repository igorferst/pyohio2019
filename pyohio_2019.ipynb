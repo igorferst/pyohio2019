{
 "cells": [
  {
   "cell_type": "markdown",
   "metadata": {},
   "source": [
    "### A Practical Introduction to Integer Programming\n",
    "#### Igor Ferst, PyOhio 2019\n",
    "\n",
    "Code based on:\n",
    "https://github.com/google/or-tools/blob/stable/ortools/linear_solver/samples/simple_mip_program.py"
   ]
  },
  {
   "cell_type": "markdown",
   "metadata": {},
   "source": [
    "Install `ortools` if you haven't already."
   ]
  },
  {
   "cell_type": "code",
   "execution_count": null,
   "metadata": {},
   "outputs": [],
   "source": [
    "import sys\n",
    "!{sys.executable} -m pip install --user ortools"
   ]
  },
  {
   "cell_type": "markdown",
   "metadata": {},
   "source": [
    "Instantiate a solver."
   ]
  },
  {
   "cell_type": "code",
   "execution_count": 1,
   "metadata": {},
   "outputs": [],
   "source": [
    "from ortools.linear_solver import pywraplp\n",
    "\n",
    "solver = pywraplp.Solver('PyOhio 2019', pywraplp.Solver.CBC_MIXED_INTEGER_PROGRAMMING)"
   ]
  },
  {
   "cell_type": "markdown",
   "metadata": {},
   "source": [
    "Define all variables, one for each vehicle/route pair."
   ]
  },
  {
   "cell_type": "code",
   "execution_count": 2,
   "metadata": {},
   "outputs": [
    {
     "name": "stdout",
     "output_type": "stream",
     "text": [
      "Total number of variables: 12\n"
     ]
    }
   ],
   "source": [
    "x = {\n",
    "    'sedan,1': solver.IntVar(0.0, 1.0, 'sedan,1'),\n",
    "    'sedan,2': solver.IntVar(0.0, 1.0, 'sedan,2'),\n",
    "    'sedan,3': solver.IntVar(0.0, 1.0, 'sedan,3'),\n",
    "    'sedan,4': solver.IntVar(0.0, 1.0, 'sedan,4'),\n",
    "    'van,1': solver.IntVar(0.0, 1.0, 'van,1'),\n",
    "    'van,2': solver.IntVar(0.0, 1.0, 'van,2'),\n",
    "    'van,3': solver.IntVar(0.0, 1.0, 'van,3'),\n",
    "    'van,4': solver.IntVar(0.0, 1.0, 'van,4'),    \n",
    "    'bus,1': solver.IntVar(0.0, 1.0, 'bus,1'),\n",
    "    'bus,2': solver.IntVar(0.0, 1.0, 'bus,2'),\n",
    "    'bus,3': solver.IntVar(0.0, 1.0, 'bus,3'),\n",
    "    'bus,4': solver.IntVar(0.0, 1.0, 'bus,4'),    \n",
    "}\n",
    "\n",
    "print(('Total number of variables: %d' % solver.NumVariables()))"
   ]
  },
  {
   "cell_type": "markdown",
   "metadata": {},
   "source": [
    "Define all constraints."
   ]
  },
  {
   "cell_type": "code",
   "execution_count": 3,
   "metadata": {},
   "outputs": [
    {
     "name": "stdout",
     "output_type": "stream",
     "text": [
      "Total number of constraints: 13\n"
     ]
    }
   ],
   "source": [
    "# Coverage constraints: every route should have exactly one vehicle assigned to it.\n",
    "\n",
    "solver.Add( x['sedan,1'] + x['van,1'] + x['bus,1'] == 1 )\n",
    "solver.Add( x['sedan,2'] + x['van,2'] + x['bus,2'] == 1 )\n",
    "solver.Add( x['sedan,3'] + x['van,3'] + x['bus,3'] == 1 )\n",
    "solver.Add( x['sedan,4'] + x['van,4'] + x['bus,4'] == 1 )\n",
    "\n",
    "# Capacity constraints: a vehicle assigned to a route must have sufficient capacity.\n",
    "\n",
    "solver.Add( x['sedan,1'] == 0 )\n",
    "solver.Add( x['sedan,2'] == 0 )\n",
    "solver.Add( x['van,1'] == 0 )\n",
    "\n",
    "# Overlap constraints: two routes that overlap in time can’t use the same vehicle.\n",
    "\n",
    "solver.Add( x['sedan,1'] + x['sedan,2'] <= 1 ) \n",
    "solver.Add( x['van,1'] + x['van,2'] <= 1 ) \n",
    "solver.Add( x['bus,1'] + x['bus,2'] <= 1 ) \n",
    "\n",
    "solver.Add( x['sedan,3'] + x['sedan,4'] <= 1 ) \n",
    "solver.Add( x['van,3'] + x['van,4'] <= 1 ) \n",
    "solver.Add( x['bus,3'] + x['bus,4'] <= 1 ) \n",
    "\n",
    "print(('Total number of constraints: %d' % solver.NumConstraints()))"
   ]
  },
  {
   "cell_type": "markdown",
   "metadata": {},
   "source": [
    "Define function to be minimized (objective function)."
   ]
  },
  {
   "cell_type": "code",
   "execution_count": 4,
   "metadata": {},
   "outputs": [],
   "source": [
    "# Minimize the sum, over all routes, of the capacity of the vehicle assigned to that route. \n",
    "\n",
    "solver.Minimize(\n",
    "    4 * x['sedan,1'] + 6 * x['van,1'] + 10 * x['bus,1'] + \n",
    "    4 * x['sedan,2'] + 6 * x['van,2'] + 10 * x['bus,2'] + \n",
    "    4 * x['sedan,3'] + 6 * x['van,3'] + 10 * x['bus,3'] + \n",
    "    4 * x['sedan,4'] + 6 * x['van,4'] + 10 * x['bus,4']    \n",
    ")"
   ]
  },
  {
   "cell_type": "markdown",
   "metadata": {},
   "source": [
    "Now we're ready to solve!"
   ]
  },
  {
   "cell_type": "code",
   "execution_count": 5,
   "metadata": {},
   "outputs": [
    {
     "name": "stdout",
     "output_type": "stream",
     "text": [
      "Assignments:\n",
      "sedan,4\n",
      "van,2\n",
      "van,3\n",
      "bus,1\n",
      "\n",
      "Minimal objective value: 26.000000\n"
     ]
    }
   ],
   "source": [
    "result_status = solver.Solve()\n",
    "\n",
    "# Confirm the problem has an optimal solution.\n",
    "assert result_status == pywraplp.Solver.OPTIMAL\n",
    "\n",
    "# Confirm the solution looks legit (when using solvers others than\n",
    "# GLOP_LINEAR_PROGRAMMING, verifying the solution is highly recommended).\n",
    "assert solver.VerifySolution(1e-7, True)\n",
    "\n",
    "# Get vehicle assignments.\n",
    "print('Assignments:')\n",
    "for assignment in [x_var for x_var in x.values() if x_var.solution_value() == 1.0]:\n",
    "    print(assignment)\n",
    "\n",
    "# The objective value of the solution (i.e. minimal value of the function to be minimized)\n",
    "print(('\\nMinimal objective value: %f' % solver.Objective().Value()))"
   ]
  }
 ],
 "metadata": {
  "kernelspec": {
   "display_name": "Python 3",
   "language": "python",
   "name": "python3"
  },
  "language_info": {
   "codemirror_mode": {
    "name": "ipython",
    "version": 3
   },
   "file_extension": ".py",
   "mimetype": "text/x-python",
   "name": "python",
   "nbconvert_exporter": "python",
   "pygments_lexer": "ipython3",
   "version": "3.6.7"
  }
 },
 "nbformat": 4,
 "nbformat_minor": 2
}
